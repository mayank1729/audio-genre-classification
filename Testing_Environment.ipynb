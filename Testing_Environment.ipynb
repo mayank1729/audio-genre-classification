{
  "nbformat": 4,
  "nbformat_minor": 0,
  "metadata": {
    "colab": {
      "name": "00. Setup Environment.ipynb",
      "provenance": [],
      "collapsed_sections": [],
      "toc_visible": true
    },
    "kernelspec": {
      "display_name": "Python 3",
      "language": "python",
      "name": "python3"
    },
    "language_info": {
      "codemirror_mode": {
        "name": "ipython",
        "version": 3
      },
      "file_extension": ".py",
      "mimetype": "text/x-python",
      "name": "python",
      "nbconvert_exporter": "python",
      "pygments_lexer": "ipython3",
      "version": "3.8.5"
    }
  },
  "cells": [
    {
      "cell_type": "markdown",
      "metadata": {
        "id": "GV5Ok0kWBaHa"
      },
      "source": [
        "# Prepreprocessing Pipeline: [Don't Use]"
      ]
    },
    {
      "cell_type": "markdown",
      "metadata": {
        "id": "l1TQTGQMWNtX"
      },
      "source": [
        "#### Load Context:"
      ]
    },
    {
      "cell_type": "code",
      "metadata": {
        "id": "_i150puLWLYn"
      },
      "source": [
        "!git clone 'https://github.com/tankgauravgt/audio-genre-classification.git' repo\n",
        "!mv -f repo/* .\n",
        "!rm -rf repo"
      ],
      "execution_count": null,
      "outputs": []
    },
    {
      "cell_type": "markdown",
      "metadata": {
        "id": "CB2JeLo4HA1Z"
      },
      "source": [
        "#### Download Dataset:"
      ]
    },
    {
      "cell_type": "code",
      "metadata": {
        "id": "Wq3HbmgpVZgH"
      },
      "source": [
        "run download_dataset.py"
      ],
      "execution_count": null,
      "outputs": []
    },
    {
      "cell_type": "code",
      "metadata": {
        "id": "thAp_gWZHAFm"
      },
      "source": [
        "!cd ./data && unzip -o ./fma_small.zip >> /dev/null\n",
        "!cd ./data && rm ./fma_small.zip"
      ],
      "execution_count": null,
      "outputs": []
    },
    {
      "cell_type": "markdown",
      "metadata": {
        "id": "BkH7q4OeHdRY"
      },
      "source": [
        "#### Download Metadata: [Don't Use]"
      ]
    },
    {
      "cell_type": "code",
      "metadata": {
        "id": "dGBPkd1yEfxo"
      },
      "source": [
        "run download_metadata.py"
      ],
      "execution_count": null,
      "outputs": []
    },
    {
      "cell_type": "code",
      "metadata": {
        "id": "3GrP0fJnG9IJ"
      },
      "source": [
        "!cd ./data && unzip -o ./fma_metadata.zip >> /dev/null\n",
        "!cd ./data && rm ./fma_metadata.zip"
      ],
      "execution_count": null,
      "outputs": []
    },
    {
      "cell_type": "markdown",
      "metadata": {
        "id": "2CuLbVYgJCVA"
      },
      "source": [
        "#### Preprocessing the Files:"
      ]
    },
    {
      "cell_type": "code",
      "metadata": {
        "id": "kx0Z8OVwj9RT"
      },
      "source": [
        "%run './notebooks/01. Preprocessor.ipynb'"
      ],
      "execution_count": null,
      "outputs": []
    },
    {
      "cell_type": "code",
      "metadata": {
        "id": "CDp8D751Eaip"
      },
      "source": [
        "%run './notebooks/02. Features Extractor.ipynb'"
      ],
      "execution_count": null,
      "outputs": []
    },
    {
      "cell_type": "markdown",
      "metadata": {
        "id": "bjy04ghyIniG"
      },
      "source": [
        "# Architecture Selection Pipeline:"
      ]
    },
    {
      "cell_type": "code",
      "metadata": {
        "id": "OedjSY07IDxI"
      },
      "source": [
        ""
      ],
      "execution_count": null,
      "outputs": []
    }
  ]
}