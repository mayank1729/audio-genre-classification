{
  "nbformat": 4,
  "nbformat_minor": 0,
  "metadata": {
    "colab": {
      "name": "01. Preprocessor.ipynb",
      "provenance": [],
      "collapsed_sections": []
    },
    "kernelspec": {
      "display_name": "Python 3",
      "language": "python",
      "name": "python3"
    },
    "language_info": {
      "codemirror_mode": {
        "name": "ipython",
        "version": 3
      },
      "file_extension": ".py",
      "mimetype": "text/x-python",
      "name": "python",
      "nbconvert_exporter": "python",
      "pygments_lexer": "ipython3",
      "version": "3.8.5"
    }
  },
  "cells": [
    {
      "cell_type": "code",
      "metadata": {
        "id": "gZ3QjB2MCo4P"
      },
      "source": [
        "root = '.'"
      ],
      "execution_count": null,
      "outputs": []
    },
    {
      "cell_type": "code",
      "metadata": {
        "id": "MeGwZvvWBfri"
      },
      "source": [
        "import pandas as pd\n",
        "import numpy as np\n",
        "import warnings\n",
        "import json\n",
        "import os"
      ],
      "execution_count": null,
      "outputs": []
    },
    {
      "cell_type": "code",
      "metadata": {
        "id": "Qhy1hPtbp6p0"
      },
      "source": [
        "warnings.filterwarnings('ignore')"
      ],
      "execution_count": null,
      "outputs": []
    },
    {
      "cell_type": "markdown",
      "metadata": {
        "id": "inmczBzPZv9q"
      },
      "source": [
        "### Milestones:\n",
        "\n",
        "1: (bidirectional) song_id from filepath:\n",
        "\n",
        "\n",
        "2: (unidirectional) genre from song_id:\n",
        "\n",
        "\n",
        "3: (bidirectional) genreid from genre:"
      ]
    },
    {
      "cell_type": "markdown",
      "metadata": {
        "id": "mu1plChwf8uj"
      },
      "source": [
        "### filepath2songid and songid2filepath:"
      ]
    },
    {
      "cell_type": "code",
      "metadata": {
        "id": "QH3jvxrNbX3M"
      },
      "source": [
        "filepath2songid = {}\n",
        "\n",
        "for folder in os.listdir(root + '/fma_small'):\n",
        "    for song in os.listdir(root + '/fma_small/' + folder):\n",
        "        song_str = song.lstrip('0')\n",
        "        if song_str == '.mp4':\n",
        "            filepath2songid.update({root + '/fma_small/' + folder + '/0' + song: 0})\n",
        "        else:\n",
        "            filepath2songid.update({root + '/fma_small/' + folder + '/' + song: int(song_str[0:-4])})"
      ],
      "execution_count": null,
      "outputs": []
    },
    {
      "cell_type": "code",
      "metadata": {
        "id": "UxK-YlxBpB5Q"
      },
      "source": [
        "songid2filepath = {}\n",
        "\n",
        "for fpath in filepath2songid.keys():\n",
        "    songid2filepath.update({filepath2songid[fpath]: fpath})"
      ],
      "execution_count": null,
      "outputs": []
    },
    {
      "cell_type": "markdown",
      "metadata": {
        "id": "8nn_E7VrioNc"
      },
      "source": [
        "### songid2genre:"
      ]
    },
    {
      "cell_type": "code",
      "metadata": {
        "id": "GC9aEaZkin9u"
      },
      "source": [
        "df = pd.read_csv(root + '/' + 'fma_metadata/tracks.csv')"
      ],
      "execution_count": null,
      "outputs": []
    },
    {
      "cell_type": "code",
      "metadata": {
        "id": "DoQnWBgNjF0N"
      },
      "source": [
        "songid2genre = {}\n",
        "for trackdata in df.to_numpy()[2::]:\n",
        "    songid2genre.update({int(trackdata[0]): trackdata[-13]})"
      ],
      "execution_count": null,
      "outputs": []
    },
    {
      "cell_type": "code",
      "metadata": {
        "id": "xerVxtstsebD"
      },
      "source": [
        "temp = list(songid2genre.keys())\n",
        "\n",
        "for sid in temp:\n",
        "    if sid not in songid2filepath.keys():\n",
        "        songid2genre.pop(sid)"
      ],
      "execution_count": null,
      "outputs": []
    },
    {
      "cell_type": "markdown",
      "metadata": {
        "id": "cJ0IitJWowL_"
      },
      "source": [
        "### finding distinct genres:"
      ]
    },
    {
      "cell_type": "code",
      "metadata": {
        "id": "nwyGMg3eo3Kr"
      },
      "source": [
        "genres = []\n",
        "\n",
        "for sid in songid2filepath.keys():\n",
        "    genres += [songid2genre[sid]]\n",
        "\n",
        "genres = sorted(list(set(genres)))"
      ],
      "execution_count": null,
      "outputs": []
    },
    {
      "cell_type": "markdown",
      "metadata": {
        "id": "D5ob_FK70Qx0"
      },
      "source": [
        "### genre2genreid:"
      ]
    },
    {
      "cell_type": "code",
      "metadata": {
        "id": "Cysn1aPj0Asc"
      },
      "source": [
        "genre2genreid = {}\n",
        "\n",
        "counter = 0\n",
        "for g in genres:\n",
        "    genre2genreid.update({g: counter})\n",
        "    counter += 1"
      ],
      "execution_count": null,
      "outputs": []
    },
    {
      "cell_type": "markdown",
      "metadata": {
        "id": "ZCYsfY2_7fol"
      },
      "source": [
        "### genreid2genre:"
      ]
    },
    {
      "cell_type": "code",
      "metadata": {
        "id": "Dg6UxHWL394W"
      },
      "source": [
        "genreid2genre = {}\n",
        "\n",
        "for g in genre2genreid.keys():\n",
        "    genreid2genre.update({genre2genreid[g]: g})"
      ],
      "execution_count": null,
      "outputs": []
    },
    {
      "cell_type": "markdown",
      "metadata": {
        "id": "i5I97KdF5m7W"
      },
      "source": [
        "### Exporting Dictionaries to JSON:"
      ]
    },
    {
      "cell_type": "code",
      "metadata": {
        "id": "NexxdQV56Llu"
      },
      "source": [
        "with open('preprocessed/filepath2songid.json', 'w') as file:\n",
        "    json.dump(filepath2songid, file)\n",
        "\n",
        "with open('preprocessed/songid2filepath.json', 'w') as file:\n",
        "    json.dump(songid2filepath, file)\n",
        "\n",
        "with open('preprocessed/songid2genre.json', 'w') as file:\n",
        "    json.dump(songid2genre, file)\n",
        "\n",
        "with open('preprocessed/genre2genreid.json', 'w') as file:\n",
        "    json.dump(genre2genreid, file)\n",
        "\n",
        "with open('preprocessed/genreid2genre.json', 'w') as file:\n",
        "    json.dump(genreid2genre, file)"
      ],
      "execution_count": null,
      "outputs": []
    }
  ]
}