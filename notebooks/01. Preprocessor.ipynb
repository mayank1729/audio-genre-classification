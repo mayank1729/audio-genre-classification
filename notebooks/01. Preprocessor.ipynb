{
 "cells": [
  {
   "cell_type": "code",
   "execution_count": 1,
   "metadata": {
    "id": "gZ3QjB2MCo4P"
   },
   "outputs": [],
   "source": [
    "root = '.'"
   ]
  },
  {
   "cell_type": "code",
   "execution_count": 2,
   "metadata": {
    "id": "MeGwZvvWBfri"
   },
   "outputs": [],
   "source": [
    "import pandas as pd\n",
    "import numpy as np\n",
    "import warnings\n",
    "import json\n",
    "import os"
   ]
  },
  {
   "cell_type": "code",
   "execution_count": 3,
   "metadata": {
    "id": "Qhy1hPtbp6p0"
   },
   "outputs": [],
   "source": [
    "warnings.filterwarnings('ignore')"
   ]
  },
  {
   "cell_type": "markdown",
   "metadata": {
    "id": "inmczBzPZv9q"
   },
   "source": [
    "### Milestones:\n",
    "\n",
    "1: (bidirectional) song_id from filepath:\n",
    "\n",
    "\n",
    "2: (unidirectional) genre from song_id:\n",
    "\n",
    "\n",
    "3: (bidirectional) genreid from genre:"
   ]
  },
  {
   "cell_type": "markdown",
   "metadata": {
    "id": "mu1plChwf8uj"
   },
   "source": [
    "### filepath2songid and songid2filepath:"
   ]
  },
  {
   "cell_type": "code",
   "execution_count": 4,
   "metadata": {
    "id": "QH3jvxrNbX3M"
   },
   "outputs": [],
   "source": [
    "filepath2songid = {}\n",
    "\n",
    "for folder in os.listdir(root + '/fma_small'):\n",
    "    for song in os.listdir(root + '/fma_small/' + folder):\n",
    "        song_str = song.lstrip('0')\n",
    "        if song_str == '.mp4':\n",
    "            filepath2songid.update({root + '/fma_small/' + folder + '/0' + song: 0})\n",
    "        else:\n",
    "            filepath2songid.update({root + '/fma_small/' + folder + '/' + song: int(song_str[0:-4])})"
   ]
  },
  {
   "cell_type": "code",
   "execution_count": 5,
   "metadata": {
    "id": "UxK-YlxBpB5Q"
   },
   "outputs": [],
   "source": [
    "songid2filepath = {}\n",
    "\n",
    "for fpath in filepath2songid.keys():\n",
    "    songid2filepath.update({filepath2songid[fpath]: fpath})"
   ]
  },
  {
   "cell_type": "markdown",
   "metadata": {
    "id": "8nn_E7VrioNc"
   },
   "source": [
    "### songid2genre:"
   ]
  },
  {
   "cell_type": "code",
   "execution_count": 6,
   "metadata": {
    "id": "GC9aEaZkin9u"
   },
   "outputs": [],
   "source": [
    "df = pd.read_csv(root + '/' + 'fma_metadata/tracks.csv')"
   ]
  },
  {
   "cell_type": "code",
   "execution_count": 7,
   "metadata": {
    "id": "DoQnWBgNjF0N"
   },
   "outputs": [],
   "source": [
    "songid2genre = {}\n",
    "for trackdata in df.to_numpy()[2::]:\n",
    "    songid2genre.update({int(trackdata[0]): trackdata[-13]})"
   ]
  },
  {
   "cell_type": "code",
   "execution_count": 8,
   "metadata": {
    "id": "xerVxtstsebD"
   },
   "outputs": [],
   "source": [
    "temp = list(songid2genre.keys())\n",
    "\n",
    "for sid in temp:\n",
    "    if sid not in songid2filepath.keys():\n",
    "        songid2genre.pop(sid)"
   ]
  },
  {
   "cell_type": "markdown",
   "metadata": {
    "id": "cJ0IitJWowL_"
   },
   "source": [
    "### finding distinct genres:"
   ]
  },
  {
   "cell_type": "code",
   "execution_count": 9,
   "metadata": {
    "id": "nwyGMg3eo3Kr"
   },
   "outputs": [],
   "source": [
    "genres = []\n",
    "\n",
    "for sid in songid2filepath.keys():\n",
    "    genres += [songid2genre[sid]]\n",
    "\n",
    "genres = sorted(list(set(genres)))"
   ]
  },
  {
   "cell_type": "markdown",
   "metadata": {
    "id": "D5ob_FK70Qx0"
   },
   "source": [
    "### genre2genreid:"
   ]
  },
  {
   "cell_type": "code",
   "execution_count": 10,
   "metadata": {
    "id": "Cysn1aPj0Asc"
   },
   "outputs": [],
   "source": [
    "genre2genreid = {}\n",
    "\n",
    "counter = 0\n",
    "for g in genres:\n",
    "    genre2genreid.update({g: counter})\n",
    "    counter += 1"
   ]
  },
  {
   "cell_type": "markdown",
   "metadata": {
    "id": "ZCYsfY2_7fol"
   },
   "source": [
    "### genreid2genre:"
   ]
  },
  {
   "cell_type": "code",
   "execution_count": 11,
   "metadata": {
    "id": "Dg6UxHWL394W"
   },
   "outputs": [],
   "source": [
    "genreid2genre = {}\n",
    "\n",
    "for g in genre2genreid.keys():\n",
    "    genreid2genre.update({genre2genreid[g]: g})"
   ]
  },
  {
   "cell_type": "markdown",
   "metadata": {
    "id": "i5I97KdF5m7W"
   },
   "source": [
    "### Exporting Dictionaries to JSON:"
   ]
  },
  {
   "cell_type": "code",
   "execution_count": 12,
   "metadata": {
    "id": "NexxdQV56Llu"
   },
   "outputs": [],
   "source": [
    "with open('preprocessed/filepath2songid.json', 'w') as file:\n",
    "    json.dump(filepath2songid, file)\n",
    "\n",
    "with open('preprocessed/songid2filepath.json', 'w') as file:\n",
    "    json.dump(songid2filepath, file)\n",
    "\n",
    "with open('preprocessed/songid2genre.json', 'w') as file:\n",
    "    json.dump(songid2genre, file)\n",
    "\n",
    "with open('preprocessed/genre2genreid.json', 'w') as file:\n",
    "    json.dump(genre2genreid, file)\n",
    "\n",
    "with open('preprocessed/genreid2genre.json', 'w') as file:\n",
    "    json.dump(genreid2genre, file)"
   ]
  }
 ],
 "metadata": {
  "colab": {
   "collapsed_sections": [],
   "name": "genre_classification.ipynb",
   "provenance": []
  },
  "kernelspec": {
   "display_name": "Python 3",
   "language": "python",
   "name": "python3"
  },
  "language_info": {
   "codemirror_mode": {
    "name": "ipython",
    "version": 3
   },
   "file_extension": ".py",
   "mimetype": "text/x-python",
   "name": "python",
   "nbconvert_exporter": "python",
   "pygments_lexer": "ipython3",
   "version": "3.8.5"
  }
 },
 "nbformat": 4,
 "nbformat_minor": 1
}
