{
 "cells": [
  {
   "cell_type": "markdown",
   "metadata": {},
   "source": [
    "### Import Packages:"
   ]
  },
  {
   "cell_type": "code",
   "execution_count": 1,
   "metadata": {},
   "outputs": [],
   "source": [
    "from IPython.display import Audio\n",
    "import matplotlib.pyplot as plt\n",
    "import librosa.display as lrd\n",
    "import librosa as lr\n",
    "import numpy as np\n",
    "import warnings\n",
    "import sklearn\n",
    "import random\n",
    "import json\n",
    "import time"
   ]
  },
  {
   "cell_type": "code",
   "execution_count": 2,
   "metadata": {},
   "outputs": [],
   "source": [
    "warnings.filterwarnings('ignore')"
   ]
  },
  {
   "cell_type": "code",
   "execution_count": 3,
   "metadata": {},
   "outputs": [],
   "source": [
    "root = '.'"
   ]
  },
  {
   "cell_type": "markdown",
   "metadata": {},
   "source": [
    "### Load Utils:"
   ]
  },
  {
   "cell_type": "code",
   "execution_count": 4,
   "metadata": {},
   "outputs": [],
   "source": [
    "filepath2songid = None\n",
    "with open('./preprocessed/filepath2songid.json', 'r') as file:\n",
    "    filepath2songid = json.load(file)\n",
    "\n",
    "songid2filepath = None\n",
    "with open('./preprocessed/songid2filepath.json', 'r') as file:\n",
    "    songid2filepath = json.load(file)\n",
    "\n",
    "songid2genre = None\n",
    "with open('./preprocessed/songid2genre.json', 'r') as file:\n",
    "    songid2genre = json.load(file)\n",
    "    \n",
    "genre2genreid = None\n",
    "with open('./preprocessed/genre2genreid.json', 'r') as file:\n",
    "    genre2genreid = json.load(file)\n",
    "\n",
    "genreid2genre = None\n",
    "with open('./preprocessed/genreid2genre.json', 'r') as file:\n",
    "    genreid2genre = json.load(file)"
   ]
  },
  {
   "cell_type": "markdown",
   "metadata": {},
   "source": [
    "### Blacklisted: (Corrupt Files Deleted Manually)"
   ]
  },
  {
   "cell_type": "code",
   "execution_count": 5,
   "metadata": {},
   "outputs": [],
   "source": [
    "blacklists = [\n",
    "    root + '/fma_small/099/099134.mp3',\n",
    "    root + '/fma_small/108/108925.mp3',\n",
    "    root + '/fma_small/133/133297.mp3',\n",
    "    root + '/fma_small/098/098567.mp3',\n",
    "    root + '/fma_small/098/098569.mp3',\n",
    "    root + '/fma_small/011/011298.mp3',\n",
    "    root +'/fma_small/098/098565.mp3'\n",
    "]"
   ]
  },
  {
   "cell_type": "markdown",
   "metadata": {},
   "source": [
    "### Loading Songs:"
   ]
  },
  {
   "cell_type": "code",
   "execution_count": 6,
   "metadata": {},
   "outputs": [],
   "source": [
    "from pathlib import Path"
   ]
  },
  {
   "cell_type": "code",
   "execution_count": 7,
   "metadata": {},
   "outputs": [],
   "source": [
    "for sid in list(songid2genre.keys()):\n",
    "    if songid2filepath[sid] not in blacklists:\n",
    "        if (Path(songid2filepath[sid]).stat().st_size / 1024) < 400:\n",
    "            blacklists += [songid2filepath[sid]]"
   ]
  },
  {
   "cell_type": "markdown",
   "metadata": {},
   "source": [
    "### Separating Genres:"
   ]
  },
  {
   "cell_type": "code",
   "execution_count": 8,
   "metadata": {},
   "outputs": [],
   "source": [
    "genre2songlist = {}\n",
    "\n",
    "for i in genreid2genre.keys():\n",
    "    genre2songlist.update({int(i): []})"
   ]
  },
  {
   "cell_type": "code",
   "execution_count": 9,
   "metadata": {},
   "outputs": [],
   "source": [
    "for sid in songid2filepath.keys():\n",
    "    if songid2filepath[sid] not in blacklists:\n",
    "        genre2songlist[genre2genreid[songid2genre[sid]]] += [sid]"
   ]
  },
  {
   "cell_type": "markdown",
   "metadata": {},
   "source": [
    "### Creating 1000 tracks for each genre:"
   ]
  },
  {
   "cell_type": "code",
   "execution_count": 10,
   "metadata": {},
   "outputs": [],
   "source": [
    "req = []\n",
    "for i in range(8):\n",
    "    req += [1000 - len(genre2songlist[i])]"
   ]
  },
  {
   "cell_type": "code",
   "execution_count": 11,
   "metadata": {},
   "outputs": [],
   "source": [
    "c = 0\n",
    "for g in genre2songlist.keys():\n",
    "    for i in range(req[c]):\n",
    "        genre2songlist[g] += [genre2songlist[g][np.random.randint(0, 1000 - req[c])]]\n",
    "    c += 1"
   ]
  },
  {
   "cell_type": "code",
   "execution_count": 12,
   "metadata": {},
   "outputs": [],
   "source": [
    "req = []\n",
    "for i in range(8):\n",
    "    req += [1000 - len(genre2songlist[i])]"
   ]
  },
  {
   "cell_type": "markdown",
   "metadata": {},
   "source": [
    "### Shuffling The lists:"
   ]
  },
  {
   "cell_type": "code",
   "execution_count": 13,
   "metadata": {},
   "outputs": [],
   "source": [
    "for g in genre2songlist:\n",
    "    random.shuffle(genre2songlist[g])"
   ]
  },
  {
   "cell_type": "markdown",
   "metadata": {},
   "source": [
    "### Padding Tracks:"
   ]
  },
  {
   "cell_type": "code",
   "execution_count": 14,
   "metadata": {},
   "outputs": [],
   "source": [
    "def pad_tracks(track, sr, duration):\n",
    "    output = None\n",
    "    t = sr * duration\n",
    "    if track.shape[0] <= t:\n",
    "        a = (t - track.shape[0]) // 2\n",
    "        b = (t - track.shape[0]) - ((t - track.shape[0]) // 2)\n",
    "        output = np.concatenate([np.array([0]*a), track, np.array([0]*b)])\n",
    "    else:\n",
    "        output = track[0:t]\n",
    "    return output"
   ]
  },
  {
   "cell_type": "markdown",
   "metadata": {},
   "source": [
    "### Audio >> MFCC: (genre-wise)"
   ]
  },
  {
   "cell_type": "code",
   "execution_count": null,
   "metadata": {},
   "outputs": [],
   "source": [
    "for g in genre2songlist:\n",
    "\n",
    "    mfcc_features = []\n",
    "    \n",
    "    tic = time.time()\n",
    "    toc = time.time()\n",
    "\n",
    "    count = 0\n",
    "    for sid in genre2songlist[g]:\n",
    "\n",
    "        if count % 250 == 0:\n",
    "            toc = time.time()\n",
    "            print('Songs Loaded: {:04d}.'.format(count), 'Load time for 100 songs: {:03d}.'.format(int(toc-tic)), 'sec')\n",
    "            tic = time.time()\n",
    "\n",
    "        if songid2filepath[sid] not in blacklists:\n",
    "            temp = lr.load(songid2filepath[sid], sr=44100)\n",
    "            mfcc_features += [lr.feature.spectral.mfcc(pad_tracks(temp[0], 44100, 30), sr=44100, hop_length=441)[:, 0:3000]]\n",
    "        count += 1\n",
    "    \n",
    "    # saving mfcc in numpy format:\n",
    "    np.save('./acoustic_features/' + str(g) + '.npy', np.array(mfcc_features), allow_pickle=False)\n",
    "    \n",
    "    mfcc_normalized = []\n",
    "    \n",
    "    # creating mfcc normalized:\n",
    "    for mfcc in mfcc_features:\n",
    "        mfcc_normalized += [sklearn.preprocessing.scale(mfcc, axis=1)]\n",
    "\n",
    "    # saving normalized mfcc in numpy format:\n",
    "    np.save('./acoustic_features/' + str(g) + 'n' + '.npy', np.array(mfcc_normalized), allow_pickle=False)"
   ]
  },
  {
   "cell_type": "markdown",
   "metadata": {},
   "source": [
    "### Visualization:"
   ]
  },
  {
   "cell_type": "raw",
   "metadata": {},
   "source": [
    "plt.figure(figsize=[15, 5])\n",
    "lrd.specshow(mfcc_normalized[0], sr=44100, x_axis='time')\n",
    "plt.show()"
   ]
  }
 ],
 "metadata": {
  "kernelspec": {
   "display_name": "Python 3",
   "language": "python",
   "name": "python3"
  },
  "language_info": {
   "codemirror_mode": {
    "name": "ipython",
    "version": 3
   },
   "file_extension": ".py",
   "mimetype": "text/x-python",
   "name": "python",
   "nbconvert_exporter": "python",
   "pygments_lexer": "ipython3",
   "version": "3.8.5"
  }
 },
 "nbformat": 4,
 "nbformat_minor": 4
}
