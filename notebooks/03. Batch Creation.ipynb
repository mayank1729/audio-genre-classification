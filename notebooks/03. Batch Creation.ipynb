{
 "cells": [
  {
   "cell_type": "code",
   "execution_count": 1,
   "metadata": {},
   "outputs": [],
   "source": [
    "import matplotlib.pyplot as plt\n",
    "import librosa.display as lrd\n",
    "import numpy as np"
   ]
  },
  {
   "cell_type": "code",
   "execution_count": 2,
   "metadata": {},
   "outputs": [],
   "source": [
    "root = '.'"
   ]
  },
  {
   "cell_type": "code",
   "execution_count": 3,
   "metadata": {},
   "outputs": [],
   "source": [
    "b0 = np.load(root + '/acoustic_features/' + str(0) + '.npy', allow_pickle=False)[0:100]\n",
    "b1 = np.load(root + '/acoustic_features/' + str(1) + '.npy', allow_pickle=False)[0:100]\n",
    "b2 = np.load(root + '/acoustic_features/' + str(2) + '.npy', allow_pickle=False)[0:100]\n",
    "b3 = np.load(root + '/acoustic_features/' + str(3) + '.npy', allow_pickle=False)[0:100]\n",
    "b4 = np.load(root + '/acoustic_features/' + str(4) + '.npy', allow_pickle=False)[0:100]\n",
    "b5 = np.load(root + '/acoustic_features/' + str(5) + '.npy', allow_pickle=False)[0:100]\n",
    "b6 = np.load(root + '/acoustic_features/' + str(6) + '.npy', allow_pickle=False)[0:100]\n",
    "b7 = np.load(root + '/acoustic_features/' + str(7) + '.npy', allow_pickle=False)[0:100]\n",
    "\n",
    "BATCH = np.concatenate([b0, b1, b2, b3, b4, b5, b6, b7])\n",
    "\n",
    "np.save(root + '/train/batch_0.npy', BATCH, allow_pickle=False)"
   ]
  },
  {
   "cell_type": "code",
   "execution_count": 4,
   "metadata": {},
   "outputs": [
    {
     "data": {
      "text/plain": [
       "(800, 20, 3000)"
      ]
     },
     "execution_count": 4,
     "metadata": {},
     "output_type": "execute_result"
    }
   ],
   "source": [
    "np.load(root + '/train/batch_0.npy', allow_pickle=False).shape"
   ]
  },
  {
   "cell_type": "code",
   "execution_count": null,
   "metadata": {},
   "outputs": [],
   "source": []
  }
 ],
 "metadata": {
  "kernelspec": {
   "display_name": "Python 3",
   "language": "python",
   "name": "python3"
  },
  "language_info": {
   "codemirror_mode": {
    "name": "ipython",
    "version": 3
   },
   "file_extension": ".py",
   "mimetype": "text/x-python",
   "name": "python",
   "nbconvert_exporter": "python",
   "pygments_lexer": "ipython3",
   "version": "3.6.10"
  }
 },
 "nbformat": 4,
 "nbformat_minor": 4
}
